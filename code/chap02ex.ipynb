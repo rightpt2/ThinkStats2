{
 "cells": [
  {
   "cell_type": "markdown",
   "metadata": {},
   "source": [
    "# Examples and Exercises from Think Stats, 2nd Edition\n",
    "\n",
    "http://thinkstats2.com\n",
    "\n",
    "Copyright 2016 Allen B. Downey\n",
    "\n",
    "MIT License: https://opensource.org/licenses/MIT\n"
   ]
  },
  {
   "cell_type": "code",
   "execution_count": 1,
   "metadata": {},
   "outputs": [],
   "source": [
    "from __future__ import print_function, division\n",
    "\n",
    "%matplotlib inline\n",
    "\n",
    "import numpy as np\n",
    "import pandas as pd\n",
    "import matplotlib.pyplot as plt\n",
    "from collections import Counter, OrderedDict\n",
    "import seaborn as sns\n",
    "\n",
    "import nsfg\n",
    "import first\n",
    "\n",
    "sns.set_style()"
   ]
  },
  {
   "cell_type": "markdown",
   "metadata": {},
   "source": [
    "Given a list of values, there are several ways to count the frequency of each value."
   ]
  },
  {
   "cell_type": "code",
   "execution_count": 2,
   "metadata": {},
   "outputs": [
    {
     "data": {
      "text/plain": [
       "OrderedDict([(1, 1), (2, 2), (3, 1), (5, 1)])"
      ]
     },
     "execution_count": 2,
     "metadata": {},
     "output_type": "execute_result"
    }
   ],
   "source": [
    "t = [1, 2, 2, 3, 5]\n",
    "\n",
    "\n",
    "c_t = Counter(t)\n",
    "\n",
    "c_t = OrderedDict(c_t)\n",
    "c_t\n"
   ]
  },
  {
   "cell_type": "markdown",
   "metadata": {},
   "source": [
    "You can use a `Counter` (which is a dictionary with additional methods):\n",
    "also `OrderdDict` is a great way to store data as well"
   ]
  },
  {
   "cell_type": "code",
   "execution_count": 52,
   "metadata": {},
   "outputs": [
    {
     "data": {
      "image/png": "[encoded data removed]",
      "text/plain": [
       "<Figure size 432x288 with 1 Axes>"
      ]
     },
     "metadata": {
      "needs_background": "light"
     },
     "output_type": "display_data"
    }
   ],
   "source": [
    "# lets see a quick histogram of the data\n",
    "df = pd.DataFrame(t, columns=['observations'])\n",
    "\n",
    "df.plot.hist(bins=5, edgecolor=\"w\")\n",
    "plt.title('Histogram')\n",
    "plt.show()"
   ]
  },
  {
   "cell_type": "markdown",
   "metadata": {},
   "source": [
    "You can use a Python dictionary:"
   ]
  },
  {
   "cell_type": "code",
   "execution_count": 4,
   "metadata": {},
   "outputs": [
    {
     "data": {
      "text/plain": [
       "{1: 1, 2: 2, 3: 1, 5: 1}"
      ]
     },
     "execution_count": 4,
     "metadata": {},
     "output_type": "execute_result"
    }
   ],
   "source": [
    "hist = {}\n",
    "for x in t:\n",
    "    hist[x] = hist.get(x, 0) + 1\n",
    "    \n",
    "hist"
   ]
  },
  {
   "cell_type": "markdown",
   "metadata": {},
   "source": [
    "Or you can use the `Items` method:"
   ]
  },
  {
   "cell_type": "code",
   "execution_count": 5,
   "metadata": {},
   "outputs": [
    {
     "name": "stdout",
     "output_type": "stream",
     "text": [
      "1 1\n",
      "2 2\n",
      "3 1\n",
      "5 1\n"
     ]
    }
   ],
   "source": [
    "for item in c_t:\n",
    "     print(item, c_t[item])"
   ]
  },
  {
   "cell_type": "code",
   "execution_count": 6,
   "metadata": {},
   "outputs": [
    {
     "name": "stdout",
     "output_type": "stream",
     "text": [
      "['caseid' 'pregordr' 'howpreg_n' 'howpreg_p' 'moscurrp' 'nowprgdk'\n",
      " 'pregend1' 'pregend2' 'nbrnaliv' 'multbrth' 'cmotpreg' 'prgoutcome'\n",
      " 'cmprgend' 'flgdkmo1' 'cmprgbeg' 'ageatend' 'hpageend' 'gestasun_m'\n",
      " 'gestasun_w' 'wksgest' 'mosgest' 'dk1gest' 'dk2gest' 'dk3gest'\n",
      " 'bpa_bdscheck1' 'bpa_bdscheck2' 'bpa_bdscheck3' 'babysex' 'birthwgt_lb'\n",
      " 'birthwgt_oz' 'lobthwgt' 'babysex2' 'birthwgt_lb2' 'birthwgt_oz2'\n",
      " 'lobthwgt2' 'babysex3' 'birthwgt_lb3' 'birthwgt_oz3' 'lobthwgt3'\n",
      " 'cmbabdob' 'kidage' 'hpagelb' 'birthplc' 'paybirth1' 'paybirth2'\n",
      " 'paybirth3' 'knewpreg' 'trimestr' 'ltrimest' 'priorsmk' 'postsmks'\n",
      " 'npostsmk' 'getprena' 'bgnprena' 'pnctrim' 'lpnctri' 'workpreg'\n",
      " 'workborn' 'didwork' 'matweeks' 'weeksdk' 'matleave' 'matchfound'\n",
      " 'livehere' 'alivenow' 'cmkidied' 'cmkidlft' 'lastage' 'wherenow'\n",
      " 'legagree' 'parenend' 'anynurse' 'fedsolid' 'frsteatd_n' 'frsteatd_p'\n",
      " 'frsteatd' 'quitnurs' 'ageqtnur_n' 'ageqtnur_p' 'ageqtnur' 'matchfound2'\n",
      " 'livehere2' 'alivenow2' 'cmkidied2' 'cmkidlft2' 'lastage2' 'wherenow2'\n",
      " 'legagree2' 'parenend2' 'anynurse2' 'fedsolid2' 'frsteatd_n2'\n",
      " 'frsteatd_p2' 'frsteatd2' 'quitnurs2' 'ageqtnur_n2' 'ageqtnur_p2'\n",
      " 'ageqtnur2' 'matchfound3' 'livehere3' 'alivenow3' 'cmkidied3' 'cmkidlft3'\n",
      " 'lastage3' 'wherenow3' 'legagree3' 'parenend3' 'anynurse3' 'fedsolid3'\n",
      " 'frsteatd_n3' 'frsteatd_p3' 'frsteatd3' 'quitnurs3' 'ageqtnur_n3'\n",
      " 'ageqtnur_p3' 'ageqtnur3' 'cmlastlb' 'cmfstprg' 'cmlstprg' 'cmintstr'\n",
      " 'cmintfin' 'cmintstrop' 'cmintfinop' 'cmintstrcr' 'cmintfincr' 'evuseint'\n",
      " 'stopduse' 'whystopd' 'whatmeth01' 'whatmeth02' 'whatmeth03' 'whatmeth04'\n",
      " 'resnouse' 'wantbold' 'probbabe' 'cnfrmno' 'wantbld2' 'timingok'\n",
      " 'toosoon_n' 'toosoon_p' 'wthpart1' 'wthpart2' 'feelinpg' 'hpwnold'\n",
      " 'timokhp' 'cohpbeg' 'cohpend' 'tellfath' 'whentell' 'tryscale' 'wantscal'\n",
      " 'whyprg1' 'whyprg2' 'whynouse1' 'whynouse2' 'whynouse3' 'anyusint'\n",
      " 'prglngth' 'outcome' 'birthord' 'datend' 'agepreg' 'datecon' 'agecon'\n",
      " 'fmarout5' 'pmarpreg' 'rmarout6' 'fmarcon5' 'learnprg' 'pncarewk'\n",
      " 'paydeliv' 'lbw1' 'bfeedwks' 'maternlv' 'oldwantr' 'oldwantp' 'wantresp'\n",
      " 'wantpart' 'cmbirth' 'ager' 'agescrn' 'fmarital' 'rmarital' 'educat'\n",
      " 'hieduc' 'race' 'hispanic' 'hisprace' 'rcurpreg' 'pregnum' 'parity'\n",
      " 'insuranc' 'pubassis' 'poverty' 'laborfor' 'religion' 'metro' 'brnout'\n",
      " 'yrstrus' 'prglngth_i' 'outcome_i' 'birthord_i' 'datend_i' 'agepreg_i'\n",
      " 'datecon_i' 'agecon_i' 'fmarout5_i' 'pmarpreg_i' 'rmarout6_i'\n",
      " 'fmarcon5_i' 'learnprg_i' 'pncarewk_i' 'paydeliv_i' 'lbw1_i' 'bfeedwks_i'\n",
      " 'maternlv_i' 'oldwantr_i' 'oldwantp_i' 'wantresp_i' 'wantpart_i' 'ager_i'\n",
      " 'fmarital_i' 'rmarital_i' 'educat_i' 'hieduc_i' 'race_i' 'hispanic_i'\n",
      " 'hisprace_i' 'rcurpreg_i' 'pregnum_i' 'parity_i' 'insuranc_i'\n",
      " 'pubassis_i' 'poverty_i' 'laborfor_i' 'religion_i' 'metro_i' 'basewgt'\n",
      " 'adj_mod_basewgt' 'finalwgt' 'secu_p' 'sest' 'cmintvw' 'totalwgt_lb']\n"
     ]
    }
   ],
   "source": [
    "preg = nsfg.ReadFemPreg()\n",
    "live = preg[preg.outcome == 1]\n",
    "print(live.columns.values)"
   ]
  },
  {
   "cell_type": "markdown",
   "metadata": {},
   "source": [
    "Here's the histogram of birth weights in pounds.  Notice that `Hist` works with anything iterable, including a Pandas Series.  The `label` attribute appears in the legend when you plot the `Hist`. "
   ]
  },
  {
   "cell_type": "code",
   "execution_count": 53,
   "metadata": {},
   "outputs": [
    {
     "data": {
      "image/png": "[encoded data removed]",
      "text/plain": [
       "<Figure size 432x288 with 1 Axes>"
      ]
     },
     "metadata": {
      "needs_background": "light"
     },
     "output_type": "display_data"
    }
   ],
   "source": [
    "plt.hist(x=live.birthwgt_lb, bins=15, label='weight', edgecolor=\"w\")\n",
    "plt.ylabel('Count of eights')\n",
    "plt.xlabel('Birthweight Lbs')\n",
    "plt.title('Birthweight Histogram')\n",
    "plt.legend()\n",
    "plt.show()"
   ]
  },
  {
   "cell_type": "markdown",
   "metadata": {},
   "source": [
    "Before plotting the ages, I'll apply `floor` to round down:"
   ]
  },
  {
   "cell_type": "code",
   "execution_count": 8,
   "metadata": {},
   "outputs": [],
   "source": [
    "ages = np.floor(live.agepreg)"
   ]
  },
  {
   "cell_type": "code",
   "execution_count": 54,
   "metadata": {},
   "outputs": [
    {
     "data": {
      "image/png": "[encoded data removed]",
      "text/plain": [
       "<Figure size 432x288 with 1 Axes>"
      ]
     },
     "metadata": {
      "needs_background": "light"
     },
     "output_type": "display_data"
    }
   ],
   "source": [
    "plt.hist(x=ages, label='agepreg', bins=35, edgecolor=\"w\")\n",
    "plt.xlim((15, 40)) \n",
    "\n",
    "plt.xlabel('years')\n",
    "plt.ylabel('Count')\n",
    "plt.title('Age Pregnant Histogram')\n",
    "plt.show()"
   ]
  },
  {
   "cell_type": "markdown",
   "metadata": {},
   "source": [
    "As an exercise, plot the histogram of pregnancy lengths (column `prglngth`)."
   ]
  },
  {
   "cell_type": "code",
   "execution_count": 10,
   "metadata": {},
   "outputs": [
    {
     "data": {
      "text/plain": [
       "count    9148.000000\n",
       "mean       38.560560\n",
       "std         2.702344\n",
       "min         0.000000\n",
       "25%        39.000000\n",
       "50%        39.000000\n",
       "75%        39.000000\n",
       "max        50.000000\n",
       "Name: prglngth, dtype: float64"
      ]
     },
     "execution_count": 10,
     "metadata": {},
     "output_type": "execute_result"
    }
   ],
   "source": [
    "live.prglngth.describe()"
   ]
  },
  {
   "cell_type": "code",
   "execution_count": 55,
   "metadata": {},
   "outputs": [
    {
     "data": {
      "image/png": "[encoded data removed]",
      "text/plain": [
       "<Figure size 432x288 with 1 Axes>"
      ]
     },
     "metadata": {
      "needs_background": "light"
     },
     "output_type": "display_data"
    }
   ],
   "source": [
    "# Solution goes here\n",
    "plt.clf()\n",
    "plt.hist(x=live.prglngth, label='pregLentgh', bins=30, edgecolor=\"w\")\n",
    "plt.xlim((30, 45)) \n",
    "\n",
    "plt.xlabel('Length')\n",
    "plt.ylabel('Count')\n",
    "plt.title('Length Babt Histogram')\n",
    "plt.show()\n"
   ]
  },
  {
   "cell_type": "markdown",
   "metadata": {},
   "source": [
    "`Hist` provides smallest, which select the lowest values and their frequencies."
   ]
  },
  {
   "cell_type": "code",
   "execution_count": 14,
   "metadata": {},
   "outputs": [
    {
     "data": {
      "text/html": [
       "<div>\n",
       "<style scoped>\n",
       "    .dataframe tbody tr th:only-of-type {\n",
       "        vertical-align: middle;\n",
       "    }\n",
       "\n",
       "    .dataframe tbody tr th {\n",
       "        vertical-align: top;\n",
       "    }\n",
       "\n",
       "    .dataframe thead th {\n",
       "        text-align: right;\n",
       "    }\n",
       "</style>\n",
       "<table border=\"1\" class=\"dataframe\">\n",
       "  <thead>\n",
       "    <tr style=\"text-align: right;\">\n",
       "      <th></th>\n",
       "      <th>count</th>\n",
       "    </tr>\n",
       "    <tr>\n",
       "      <th>prglngth</th>\n",
       "      <th></th>\n",
       "    </tr>\n",
       "  </thead>\n",
       "  <tbody>\n",
       "    <tr>\n",
       "      <td>0</td>\n",
       "      <td>1</td>\n",
       "    </tr>\n",
       "    <tr>\n",
       "      <td>4</td>\n",
       "      <td>1</td>\n",
       "    </tr>\n",
       "    <tr>\n",
       "      <td>9</td>\n",
       "      <td>1</td>\n",
       "    </tr>\n",
       "    <tr>\n",
       "      <td>13</td>\n",
       "      <td>1</td>\n",
       "    </tr>\n",
       "    <tr>\n",
       "      <td>17</td>\n",
       "      <td>2</td>\n",
       "    </tr>\n",
       "    <tr>\n",
       "      <td>18</td>\n",
       "      <td>1</td>\n",
       "    </tr>\n",
       "    <tr>\n",
       "      <td>19</td>\n",
       "      <td>1</td>\n",
       "    </tr>\n",
       "    <tr>\n",
       "      <td>20</td>\n",
       "      <td>1</td>\n",
       "    </tr>\n",
       "    <tr>\n",
       "      <td>21</td>\n",
       "      <td>2</td>\n",
       "    </tr>\n",
       "    <tr>\n",
       "      <td>22</td>\n",
       "      <td>7</td>\n",
       "    </tr>\n",
       "  </tbody>\n",
       "</table>\n",
       "</div>"
      ],
      "text/plain": [
       "          count\n",
       "prglngth       \n",
       "0             1\n",
       "4             1\n",
       "9             1\n",
       "13            1\n",
       "17            2\n",
       "18            1\n",
       "19            1\n",
       "20            1\n",
       "21            2\n",
       "22            7"
      ]
     },
     "execution_count": 14,
     "metadata": {},
     "output_type": "execute_result"
    }
   ],
   "source": [
    "group_len = pd.DataFrame(live.groupby(by='prglngth')['caseid'].count())\n",
    "group_len.columns = ['count']\n",
    "group_len.head(10)"
   ]
  },
  {
   "cell_type": "markdown",
   "metadata": {},
   "source": [
    "Use `Largest` to display the longest pregnancy lengths."
   ]
  },
  {
   "cell_type": "code",
   "execution_count": 15,
   "metadata": {},
   "outputs": [
    {
     "data": {
      "text/html": [
       "<div>\n",
       "<style scoped>\n",
       "    .dataframe tbody tr th:only-of-type {\n",
       "        vertical-align: middle;\n",
       "    }\n",
       "\n",
       "    .dataframe tbody tr th {\n",
       "        vertical-align: top;\n",
       "    }\n",
       "\n",
       "    .dataframe thead th {\n",
       "        text-align: right;\n",
       "    }\n",
       "</style>\n",
       "<table border=\"1\" class=\"dataframe\">\n",
       "  <thead>\n",
       "    <tr style=\"text-align: right;\">\n",
       "      <th></th>\n",
       "      <th>count</th>\n",
       "    </tr>\n",
       "    <tr>\n",
       "      <th>prglngth</th>\n",
       "      <th></th>\n",
       "    </tr>\n",
       "  </thead>\n",
       "  <tbody>\n",
       "    <tr>\n",
       "      <td>40</td>\n",
       "      <td>1116</td>\n",
       "    </tr>\n",
       "    <tr>\n",
       "      <td>41</td>\n",
       "      <td>587</td>\n",
       "    </tr>\n",
       "    <tr>\n",
       "      <td>42</td>\n",
       "      <td>328</td>\n",
       "    </tr>\n",
       "    <tr>\n",
       "      <td>43</td>\n",
       "      <td>148</td>\n",
       "    </tr>\n",
       "    <tr>\n",
       "      <td>44</td>\n",
       "      <td>46</td>\n",
       "    </tr>\n",
       "    <tr>\n",
       "      <td>45</td>\n",
       "      <td>10</td>\n",
       "    </tr>\n",
       "    <tr>\n",
       "      <td>46</td>\n",
       "      <td>1</td>\n",
       "    </tr>\n",
       "    <tr>\n",
       "      <td>47</td>\n",
       "      <td>1</td>\n",
       "    </tr>\n",
       "    <tr>\n",
       "      <td>48</td>\n",
       "      <td>7</td>\n",
       "    </tr>\n",
       "    <tr>\n",
       "      <td>50</td>\n",
       "      <td>2</td>\n",
       "    </tr>\n",
       "  </tbody>\n",
       "</table>\n",
       "</div>"
      ],
      "text/plain": [
       "          count\n",
       "prglngth       \n",
       "40         1116\n",
       "41          587\n",
       "42          328\n",
       "43          148\n",
       "44           46\n",
       "45           10\n",
       "46            1\n",
       "47            1\n",
       "48            7\n",
       "50            2"
      ]
     },
     "execution_count": 15,
     "metadata": {},
     "output_type": "execute_result"
    }
   ],
   "source": [
    "group_len.tail(10)"
   ]
  },
  {
   "cell_type": "markdown",
   "metadata": {},
   "source": [
    "From live births, we can select first babies and others using `birthord`, then compute histograms of pregnancy length for the two groups."
   ]
  },
  {
   "cell_type": "code",
   "execution_count": 58,
   "metadata": {},
   "outputs": [
    {
     "name": "stderr",
     "output_type": "stream",
     "text": [
      "/Users/bkeyes/opt/anaconda3/lib/python3.7/site-packages/ipykernel_launcher.py:1: SettingWithCopyWarning: \n",
      "A value is trying to be set on a copy of a slice from a DataFrame.\n",
      "Try using .loc[row_indexer,col_indexer] = value instead\n",
      "\n",
      "See the caveats in the documentation: http://pandas.pydata.org/pandas-docs/stable/user_guide/indexing.html#returning-a-view-versus-a-copy\n",
      "  \"\"\"Entry point for launching an IPython kernel.\n"
     ]
    },
    {
     "data": {
      "image/png": "[encoded data removed]",
      "text/plain": [
       "<Figure size 432x288 with 1 Axes>"
      ]
     },
     "metadata": {
      "needs_background": "light"
     },
     "output_type": "display_data"
    }
   ],
   "source": [
    "live['first_baby'] = 'Yes'\n",
    "not_first = live.birthord != 1\n",
    "live.loc[not_first,'first_baby'] = \"No\"\n",
    "\n",
    "bins = np.linspace(30, 45, 15)\n",
    "\n",
    "plt.hist(live.loc[live['first_baby'] == 'Yes', 'prglngth'], bins, alpha=0.5, color='red', label='first_baby', edgecolor=\"grey\")\n",
    "plt.hist(live.loc[live['first_baby'] == 'No', 'prglngth'], bins, alpha=0.5, color='blue', label='after', edgecolor=\"white\")\n",
    "plt.legend(loc='upper right')\n",
    "plt.show()"
   ]
  },
  {
   "cell_type": "markdown",
   "metadata": {},
   "source": [
    "We can use `width` and `align` to plot two histograms side-by-side."
   ]
  },
  {
   "cell_type": "markdown",
   "metadata": {},
   "source": [
    "`Series` provides methods to compute summary statistics:"
   ]
  },
  {
   "cell_type": "code",
   "execution_count": 17,
   "metadata": {},
   "outputs": [],
   "source": [
    "mean = live.prglngth.mean()\n",
    "var = live.prglngth.var()\n",
    "std = live.prglngth.std()"
   ]
  },
  {
   "cell_type": "markdown",
   "metadata": {},
   "source": [
    "Here are the mean and standard deviation:"
   ]
  },
  {
   "cell_type": "code",
   "execution_count": 30,
   "metadata": {},
   "outputs": [
    {
     "name": "stdout",
     "output_type": "stream",
     "text": [
      "the mean is:38.56 \n",
      "The standard devation is:2.70\n"
     ]
    }
   ],
   "source": [
    "print(f\"the mean is:{mean:.2f}\", f\"\\nThe standard devation is:{std:.2f}\")"
   ]
  },
  {
   "cell_type": "markdown",
   "metadata": {},
   "source": [
    "As an exercise, confirm that `std` is the square root of `var`:"
   ]
  },
  {
   "cell_type": "code",
   "execution_count": 34,
   "metadata": {},
   "outputs": [
    {
     "data": {
      "text/plain": [
       "True"
      ]
     },
     "execution_count": 34,
     "metadata": {},
     "output_type": "execute_result"
    }
   ],
   "source": [
    "# Solution goes here\n",
    "var **0.5  == std"
   ]
  },
  {
   "cell_type": "markdown",
   "metadata": {},
   "source": [
    "Here's are the mean pregnancy lengths for first babies and others:"
   ]
  },
  {
   "cell_type": "code",
   "execution_count": 35,
   "metadata": {},
   "outputs": [
    {
     "data": {
      "text/html": [
       "<div>\n",
       "<style scoped>\n",
       "    .dataframe tbody tr th:only-of-type {\n",
       "        vertical-align: middle;\n",
       "    }\n",
       "\n",
       "    .dataframe tbody tr th {\n",
       "        vertical-align: top;\n",
       "    }\n",
       "\n",
       "    .dataframe thead th {\n",
       "        text-align: right;\n",
       "    }\n",
       "</style>\n",
       "<table border=\"1\" class=\"dataframe\">\n",
       "  <thead>\n",
       "    <tr style=\"text-align: right;\">\n",
       "      <th>first_baby</th>\n",
       "      <th>No</th>\n",
       "      <th>Yes</th>\n",
       "      <th>diff</th>\n",
       "    </tr>\n",
       "  </thead>\n",
       "  <tbody>\n",
       "    <tr>\n",
       "      <td>count</td>\n",
       "      <td>4735.000000</td>\n",
       "      <td>4413.000000</td>\n",
       "      <td>-322.000000</td>\n",
       "    </tr>\n",
       "    <tr>\n",
       "      <td>mean</td>\n",
       "      <td>38.522914</td>\n",
       "      <td>38.600952</td>\n",
       "      <td>0.078037</td>\n",
       "    </tr>\n",
       "    <tr>\n",
       "      <td>std</td>\n",
       "      <td>2.615852</td>\n",
       "      <td>2.791901</td>\n",
       "      <td>0.176049</td>\n",
       "    </tr>\n",
       "    <tr>\n",
       "      <td>min</td>\n",
       "      <td>4.000000</td>\n",
       "      <td>0.000000</td>\n",
       "      <td>-4.000000</td>\n",
       "    </tr>\n",
       "    <tr>\n",
       "      <td>25%</td>\n",
       "      <td>39.000000</td>\n",
       "      <td>39.000000</td>\n",
       "      <td>0.000000</td>\n",
       "    </tr>\n",
       "    <tr>\n",
       "      <td>50%</td>\n",
       "      <td>39.000000</td>\n",
       "      <td>39.000000</td>\n",
       "      <td>0.000000</td>\n",
       "    </tr>\n",
       "    <tr>\n",
       "      <td>75%</td>\n",
       "      <td>39.000000</td>\n",
       "      <td>40.000000</td>\n",
       "      <td>1.000000</td>\n",
       "    </tr>\n",
       "    <tr>\n",
       "      <td>max</td>\n",
       "      <td>50.000000</td>\n",
       "      <td>48.000000</td>\n",
       "      <td>-2.000000</td>\n",
       "    </tr>\n",
       "  </tbody>\n",
       "</table>\n",
       "</div>"
      ],
      "text/plain": [
       "first_baby           No          Yes        diff\n",
       "count       4735.000000  4413.000000 -322.000000\n",
       "mean          38.522914    38.600952    0.078037\n",
       "std            2.615852     2.791901    0.176049\n",
       "min            4.000000     0.000000   -4.000000\n",
       "25%           39.000000    39.000000    0.000000\n",
       "50%           39.000000    39.000000    0.000000\n",
       "75%           39.000000    40.000000    1.000000\n",
       "max           50.000000    48.000000   -2.000000"
      ]
     },
     "execution_count": 35,
     "metadata": {},
     "output_type": "execute_result"
    }
   ],
   "source": [
    "groupd_desc = live.groupby(by=['first_baby'])['prglngth' ].describe().T\n",
    "groupd_desc['diff'] = groupd_desc['Yes'] - groupd_desc['No']\n",
    "groupd_desc "
   ]
  },
  {
   "cell_type": "markdown",
   "metadata": {},
   "source": [
    "And here's the difference (in weeks):"
   ]
  },
  {
   "cell_type": "code",
   "execution_count": 36,
   "metadata": {},
   "outputs": [
    {
     "data": {
      "text/html": [
       "<div>\n",
       "<style scoped>\n",
       "    .dataframe tbody tr th:only-of-type {\n",
       "        vertical-align: middle;\n",
       "    }\n",
       "\n",
       "    .dataframe tbody tr th {\n",
       "        vertical-align: top;\n",
       "    }\n",
       "\n",
       "    .dataframe thead th {\n",
       "        text-align: right;\n",
       "    }\n",
       "</style>\n",
       "<table border=\"1\" class=\"dataframe\">\n",
       "  <thead>\n",
       "    <tr style=\"text-align: right;\">\n",
       "      <th>first_baby</th>\n",
       "      <th>No</th>\n",
       "      <th>Yes</th>\n",
       "      <th>diff</th>\n",
       "    </tr>\n",
       "  </thead>\n",
       "  <tbody>\n",
       "    <tr>\n",
       "      <td>mean</td>\n",
       "      <td>38.522914</td>\n",
       "      <td>38.600952</td>\n",
       "      <td>0.078037</td>\n",
       "    </tr>\n",
       "  </tbody>\n",
       "</table>\n",
       "</div>"
      ],
      "text/plain": [
       "first_baby         No        Yes      diff\n",
       "mean        38.522914  38.600952  0.078037"
      ]
     },
     "execution_count": 36,
     "metadata": {},
     "output_type": "execute_result"
    }
   ],
   "source": [
    "groupd_desc[groupd_desc.index =='mean']"
   ]
  },
  {
   "cell_type": "markdown",
   "metadata": {},
   "source": [
    "This functon computes the Cohen effect size, which is the difference in means expressed in number of standard deviations:"
   ]
  },
  {
   "cell_type": "code",
   "execution_count": 37,
   "metadata": {},
   "outputs": [],
   "source": [
    "def CohenEffectSize(group1, group2):\n",
    "    \"\"\"Computes Cohen's effect size for two groups.\n",
    "    \n",
    "    group1: Series or DataFrame\n",
    "    group2: Series or DataFrame\n",
    "    \n",
    "    returns: float if the arguments are Series;\n",
    "             Series if the arguments are DataFrames\n",
    "    \"\"\"\n",
    "    diff = group1.mean() - group2.mean()\n",
    "\n",
    "    var1 = group1.var()\n",
    "    var2 = group2.var()\n",
    "    n1, n2 = len(group1), len(group2)\n",
    "\n",
    "    pooled_var = (n1 * var1 + n2 * var2) / (n1 + n2)\n",
    "    d = diff / np.sqrt(pooled_var)\n",
    "    return d"
   ]
  },
  {
   "cell_type": "markdown",
   "metadata": {},
   "source": [
    "Compute the Cohen effect size for the difference in pregnancy length for first babies and others."
   ]
  },
  {
   "cell_type": "code",
   "execution_count": 38,
   "metadata": {},
   "outputs": [
    {
     "data": {
      "text/plain": [
       "0.028879044654449883"
      ]
     },
     "execution_count": 38,
     "metadata": {},
     "output_type": "execute_result"
    }
   ],
   "source": [
    "# Solution goes here\n",
    "CohenEffectSize(live.loc[live['first_baby']=='Yes','prglngth'], live.loc[live['first_baby']=='No','prglngth'])"
   ]
  },
  {
   "cell_type": "markdown",
   "metadata": {},
   "source": [
    "It does not seem that the distribution of time for first and later babies for pregnancy length is stastically significant\n",
    "- The cohen effect of pregnancy between first and later babies is very small. Only 0.29. \n",
    "- We should also run a students T test later to see if they come from different distributions"
   ]
  },
  {
   "cell_type": "markdown",
   "metadata": {
    "collapsed": true
   },
   "source": [
    "## Exercises"
   ]
  },
  {
   "cell_type": "markdown",
   "metadata": {},
   "source": [
    "Using the variable `totalwgt_lb`, investigate whether first babies are lighter or heavier than others. \n",
    "\n",
    "Compute Cohen’s effect size to quantify the difference between the groups.  How does it compare to the difference in pregnancy length?"
   ]
  },
  {
   "cell_type": "code",
   "execution_count": 59,
   "metadata": {},
   "outputs": [
    {
     "data": {
      "image/png": "[encoded data removed]",
      "text/plain": [
       "<Figure size 432x288 with 1 Axes>"
      ]
     },
     "metadata": {
      "needs_background": "light"
     },
     "output_type": "display_data"
    }
   ],
   "source": [
    "plt.hist(x=live.totalwgt_lb, bins=15, edgecolor=\"w\")\n",
    "plt.title('total weight histogram')\n",
    "plt.show()"
   ]
  },
  {
   "cell_type": "code",
   "execution_count": 66,
   "metadata": {},
   "outputs": [
    {
     "data": {
      "image/png": "[encoded data removed]",
      "text/plain": [
       "<Figure size 432x288 with 1 Axes>"
      ]
     },
     "metadata": {
      "needs_background": "light"
     },
     "output_type": "display_data"
    }
   ],
   "source": [
    "plt.hist(live.loc[live['first_baby'] == 'Yes', 'totalwgt_lb'], bins=15, alpha=0.5, color='red', label='first_baby', edgecolor=\"grey\")\n",
    "plt.hist(live.loc[live['first_baby'] == 'No', 'totalwgt_lb'], bins=15, alpha=0.5, color='blue', label='after', edgecolor=\"white\")\n",
    "plt.legend(loc='upper right')\n",
    "plt.title('Hist of Weights')\n",
    "plt.show()"
   ]
  },
  {
   "cell_type": "code",
   "execution_count": 39,
   "metadata": {},
   "outputs": [
    {
     "data": {
      "text/html": [
       "<div>\n",
       "<style scoped>\n",
       "    .dataframe tbody tr th:only-of-type {\n",
       "        vertical-align: middle;\n",
       "    }\n",
       "\n",
       "    .dataframe tbody tr th {\n",
       "        vertical-align: top;\n",
       "    }\n",
       "\n",
       "    .dataframe thead th {\n",
       "        text-align: right;\n",
       "    }\n",
       "</style>\n",
       "<table border=\"1\" class=\"dataframe\">\n",
       "  <thead>\n",
       "    <tr style=\"text-align: right;\">\n",
       "      <th></th>\n",
       "      <th>observations</th>\n",
       "    </tr>\n",
       "  </thead>\n",
       "  <tbody>\n",
       "    <tr>\n",
       "      <td>0</td>\n",
       "      <td>1</td>\n",
       "    </tr>\n",
       "    <tr>\n",
       "      <td>1</td>\n",
       "      <td>2</td>\n",
       "    </tr>\n",
       "    <tr>\n",
       "      <td>2</td>\n",
       "      <td>2</td>\n",
       "    </tr>\n",
       "    <tr>\n",
       "      <td>3</td>\n",
       "      <td>3</td>\n",
       "    </tr>\n",
       "    <tr>\n",
       "      <td>4</td>\n",
       "      <td>5</td>\n",
       "    </tr>\n",
       "  </tbody>\n",
       "</table>\n",
       "</div>"
      ],
      "text/plain": [
       "   observations\n",
       "0             1\n",
       "1             2\n",
       "2             2\n",
       "3             3\n",
       "4             5"
      ]
     },
     "execution_count": 39,
     "metadata": {},
     "output_type": "execute_result"
    }
   ],
   "source": [
    "# Solution goes here\n",
    "df.head()"
   ]
  },
  {
   "cell_type": "code",
   "execution_count": 42,
   "metadata": {},
   "outputs": [
    {
     "data": {
      "text/html": [
       "<div>\n",
       "<style scoped>\n",
       "    .dataframe tbody tr th:only-of-type {\n",
       "        vertical-align: middle;\n",
       "    }\n",
       "\n",
       "    .dataframe tbody tr th {\n",
       "        vertical-align: top;\n",
       "    }\n",
       "\n",
       "    .dataframe thead th {\n",
       "        text-align: right;\n",
       "    }\n",
       "</style>\n",
       "<table border=\"1\" class=\"dataframe\">\n",
       "  <thead>\n",
       "    <tr style=\"text-align: right;\">\n",
       "      <th>first_baby</th>\n",
       "      <th>No</th>\n",
       "      <th>Yes</th>\n",
       "      <th>diff</th>\n",
       "    </tr>\n",
       "  </thead>\n",
       "  <tbody>\n",
       "    <tr>\n",
       "      <td>count</td>\n",
       "      <td>4675.000000</td>\n",
       "      <td>4363.000000</td>\n",
       "      <td>-312.000000</td>\n",
       "    </tr>\n",
       "    <tr>\n",
       "      <td>mean</td>\n",
       "      <td>7.325856</td>\n",
       "      <td>7.201094</td>\n",
       "      <td>-0.124761</td>\n",
       "    </tr>\n",
       "    <tr>\n",
       "      <td>std</td>\n",
       "      <td>1.394195</td>\n",
       "      <td>1.420573</td>\n",
       "      <td>0.026377</td>\n",
       "    </tr>\n",
       "    <tr>\n",
       "      <td>min</td>\n",
       "      <td>0.562500</td>\n",
       "      <td>0.125000</td>\n",
       "      <td>-0.437500</td>\n",
       "    </tr>\n",
       "    <tr>\n",
       "      <td>25%</td>\n",
       "      <td>6.500000</td>\n",
       "      <td>6.437500</td>\n",
       "      <td>-0.062500</td>\n",
       "    </tr>\n",
       "    <tr>\n",
       "      <td>50%</td>\n",
       "      <td>7.375000</td>\n",
       "      <td>7.312500</td>\n",
       "      <td>-0.062500</td>\n",
       "    </tr>\n",
       "    <tr>\n",
       "      <td>75%</td>\n",
       "      <td>8.187500</td>\n",
       "      <td>8.000000</td>\n",
       "      <td>-0.187500</td>\n",
       "    </tr>\n",
       "    <tr>\n",
       "      <td>max</td>\n",
       "      <td>14.000000</td>\n",
       "      <td>15.437500</td>\n",
       "      <td>1.437500</td>\n",
       "    </tr>\n",
       "  </tbody>\n",
       "</table>\n",
       "</div>"
      ],
      "text/plain": [
       "first_baby           No          Yes        diff\n",
       "count       4675.000000  4363.000000 -312.000000\n",
       "mean           7.325856     7.201094   -0.124761\n",
       "std            1.394195     1.420573    0.026377\n",
       "min            0.562500     0.125000   -0.437500\n",
       "25%            6.500000     6.437500   -0.062500\n",
       "50%            7.375000     7.312500   -0.062500\n",
       "75%            8.187500     8.000000   -0.187500\n",
       "max           14.000000    15.437500    1.437500"
      ]
     },
     "execution_count": 42,
     "metadata": {},
     "output_type": "execute_result"
    }
   ],
   "source": [
    "# Solution goes here\n",
    "groupd_weigth = live.groupby(by=['first_baby'])['totalwgt_lb' ].describe().T\n",
    "groupd_weigth['diff'] = groupd_weigth['Yes'] - groupd_weigth['No']\n",
    "groupd_weigth"
   ]
  },
  {
   "cell_type": "markdown",
   "metadata": {},
   "source": [
    "### Is there a statistical difference between the two `weights`"
   ]
  },
  {
   "cell_type": "markdown",
   "metadata": {},
   "source": [
    "For the next few exercises, we'll load the respondent file:"
   ]
  },
  {
   "cell_type": "code",
   "execution_count": 69,
   "metadata": {},
   "outputs": [],
   "source": [
    "resp = nsfg.ReadFemResp()"
   ]
  },
  {
   "cell_type": "markdown",
   "metadata": {},
   "source": [
    "Make a histogram of <tt>totincr</tt> the total income for the respondent's family.  To interpret the codes see the [codebook](http://www.icpsr.umich.edu/nsfg6/Controller?displayPage=labelDetails&fileCode=FEM&section=R&subSec=7876&srtLabel=607543)."
   ]
  },
  {
   "cell_type": "code",
   "execution_count": 72,
   "metadata": {},
   "outputs": [],
   "source": [
    "# Solution goes here\n",
    "resp.totincr.unique()\n",
    "\n",
    "income_rng = {1 : \"<$5000\",\n",
    "           2 : \"$5000-$7499\",\n",
    "           3 : \"$7500-$9999\",\n",
    "           4 : \"$10,000-$12,499\",\n",
    "           5 : \"$12,500-$14,999\",\n",
    "           6 : \"$15,000-$19,999\",\n",
    "           7 : \"$20,000-$24,999\",\n",
    "           8 : \"$25,000-$29,999\",\n",
    "           9 : \"$30,000-$34,999\",\n",
    "           10: \"$35,000-$39,999\",\n",
    "           11: \"$40,000-$49,999\",\n",
    "           12: \"$50,000-$59,000\",\n",
    "           13: \"$60,000-$74,999\",\n",
    "           14: \"$75,000 OR MORE\"}\n",
    "\n",
    "resp['totincrange'] = resp.totincr.map(income_rng)\n"
   ]
  },
  {
   "cell_type": "markdown",
   "metadata": {},
   "source": [
    "Make a histogram of <tt>age_r</tt>, the respondent's age at the time of interview."
   ]
  },
  {
   "cell_type": "code",
   "execution_count": 75,
   "metadata": {},
   "outputs": [
    {
     "name": "stdout",
     "output_type": "stream",
     "text": [
      "mean age is 29.50\n"
     ]
    },
    {
     "data": {
      "image/png": "[encoded data removed]",
      "text/plain": [
       "<Figure size 432x288 with 1 Axes>"
      ]
     },
     "metadata": {
      "needs_background": "light"
     },
     "output_type": "display_data"
    }
   ],
   "source": [
    "# histigram of age\n",
    "plt.hist(x=resp.age_r, bins=15, edgecolor=\"w\")\n",
    "plt.title('total age histogram')\n",
    "print(\"mean age is {0:0.2f}\".format(resp.age_r.mean()))\n",
    "\n",
    "plt.show()"
   ]
  },
  {
   "cell_type": "markdown",
   "metadata": {},
   "source": [
    "Make a histogram of <tt>numfmhh</tt>, the number of people in the respondent's household."
   ]
  },
  {
   "cell_type": "code",
   "execution_count": 77,
   "metadata": {},
   "outputs": [
    {
     "data": {
      "image/png": "[encoded data removed]",
      "text/plain": [
       "<Figure size 432x288 with 1 Axes>"
      ]
     },
     "metadata": {
      "needs_background": "light"
     },
     "output_type": "display_data"
    }
   ],
   "source": [
    "# histigram of number of people in household\n",
    "plt.hist(x=resp.numfmhh, bins=8, edgecolor=\"w\")\n",
    "plt.title('Number of people in hosehold histogram')\n",
    "\n",
    "plt.show()"
   ]
  },
  {
   "cell_type": "markdown",
   "metadata": {},
   "source": [
    "Make a histogram of <tt>parity</tt>, the number of children borne by the respondent.  How would you describe this distribution?"
   ]
  },
  {
   "cell_type": "code",
   "execution_count": 111,
   "metadata": {},
   "outputs": [
    {
     "data": {
      "image/png": "[encoded data removed]",
      "text/plain": [
       "<Figure size 432x288 with 1 Axes>"
      ]
     },
     "metadata": {
      "needs_background": "light"
     },
     "output_type": "display_data"
    }
   ],
   "source": [
    "# histigram of number of children born to each mother\n",
    "\n",
    "bins = np.arange(-1, resp.parity.max() + 1.5) + 0.5\n",
    "fig, ax = plt.subplots()\n",
    "_ = ax.hist(resp.parity, bins, edgecolor=\"w\")\n",
    "ax.set_xticks(bins + 0.5)\n",
    "\n",
    "\n",
    "#plt.xlim((1,10))\n",
    "plt.title('Number of children per mother histogram')\n",
    "\n",
    "plt.show()"
   ]
  },
  {
   "cell_type": "markdown",
   "metadata": {},
   "source": [
    "Use Hist.Largest to find the largest values of <tt>parity</tt>."
   ]
  },
  {
   "cell_type": "code",
   "execution_count": 118,
   "metadata": {},
   "outputs": [
    {
     "data": {
      "text/plain": [
       "parity\n",
       "8     8\n",
       "9     2\n",
       "10    3\n",
       "16    1\n",
       "22    1\n",
       "Name: caseid, dtype: int64"
      ]
     },
     "execution_count": 118,
     "metadata": {},
     "output_type": "execute_result"
    }
   ],
   "source": [
    "# Solution goes here\n",
    "\n",
    "df = resp.groupby(by='parity')['caseid'].count()\n",
    "df.columns = [['count']]\n",
    "df.tail()"
   ]
  },
  {
   "cell_type": "markdown",
   "metadata": {},
   "source": [
    "Let's investigate whether people with higher income have higher parity.  Keep in mind that in this study, we are observing different people at different times during their lives, so this data is not the best choice for answering this question.  But for now let's take it at face value.\n",
    "\n",
    "Use <tt>totincr</tt> to select the respondents with the highest income (level 14).  Plot the histogram of <tt>parity</tt> for just the high income respondents."
   ]
  },
  {
   "cell_type": "code",
   "execution_count": 125,
   "metadata": {},
   "outputs": [
    {
     "data": {
      "image/png": "[encoded data removed]",
      "text/plain": [
       "<Figure size 432x288 with 1 Axes>"
      ]
     },
     "metadata": {
      "needs_background": "light"
     },
     "output_type": "display_data"
    },
    {
     "data": {
      "image/png": "[encoded data removed]",
      "text/plain": [
       "<Figure size 432x288 with 1 Axes>"
      ]
     },
     "metadata": {
      "needs_background": "light"
     },
     "output_type": "display_data"
    }
   ],
   "source": [
    "# Solution goes here\n",
    "def hist_income(df,level=14):\n",
    "    \n",
    "    df = df.loc[df.totincr == level,:]\n",
    "    \n",
    "    bins = np.arange(-1, df.parity.max() + 1.5) + 0.5\n",
    "    fig, ax = plt.subplots()\n",
    "    _ = ax.hist(df.parity, bins, edgecolor=\"w\")\n",
    "    ax.set_xticks(bins + 0.5)\n",
    "\n",
    "    #plt.xlim((1,10))\n",
    "    plt.title('Number of children per mother histogram {0}'.format(level))\n",
    "\n",
    "    plt.show()\n",
    "    \n",
    "hist_income(resp, 1)\n",
    "hist_income(resp, 14)\n"
   ]
  },
  {
   "cell_type": "markdown",
   "metadata": {},
   "source": [
    "Find the largest parities for high income respondents."
   ]
  },
  {
   "cell_type": "code",
   "execution_count": 138,
   "metadata": {},
   "outputs": [
    {
     "data": {
      "text/html": [
       "<div>\n",
       "<style scoped>\n",
       "    .dataframe tbody tr th:only-of-type {\n",
       "        vertical-align: middle;\n",
       "    }\n",
       "\n",
       "    .dataframe tbody tr th {\n",
       "        vertical-align: top;\n",
       "    }\n",
       "\n",
       "    .dataframe thead th {\n",
       "        text-align: right;\n",
       "    }\n",
       "</style>\n",
       "<table border=\"1\" class=\"dataframe\">\n",
       "  <thead>\n",
       "    <tr style=\"text-align: right;\">\n",
       "      <th></th>\n",
       "      <th>totincr</th>\n",
       "      <th>parity</th>\n",
       "      <th>caseid</th>\n",
       "    </tr>\n",
       "  </thead>\n",
       "  <tbody>\n",
       "    <tr>\n",
       "      <td>109</td>\n",
       "      <td>14</td>\n",
       "      <td>3</td>\n",
       "      <td>123</td>\n",
       "    </tr>\n",
       "    <tr>\n",
       "      <td>110</td>\n",
       "      <td>14</td>\n",
       "      <td>4</td>\n",
       "      <td>19</td>\n",
       "    </tr>\n",
       "    <tr>\n",
       "      <td>111</td>\n",
       "      <td>14</td>\n",
       "      <td>5</td>\n",
       "      <td>5</td>\n",
       "    </tr>\n",
       "    <tr>\n",
       "      <td>112</td>\n",
       "      <td>14</td>\n",
       "      <td>7</td>\n",
       "      <td>1</td>\n",
       "    </tr>\n",
       "    <tr>\n",
       "      <td>113</td>\n",
       "      <td>14</td>\n",
       "      <td>8</td>\n",
       "      <td>1</td>\n",
       "    </tr>\n",
       "  </tbody>\n",
       "</table>\n",
       "</div>"
      ],
      "text/plain": [
       "     totincr  parity  caseid\n",
       "109       14       3     123\n",
       "110       14       4      19\n",
       "111       14       5       5\n",
       "112       14       7       1\n",
       "113       14       8       1"
      ]
     },
     "execution_count": 138,
     "metadata": {},
     "output_type": "execute_result"
    }
   ],
   "source": [
    "# Solution goes here\n",
    "resp.groupby(by=['totincr'])['parity'].describe().T\n",
    "\n",
    "\n",
    "inc_parity = resp.groupby(by=['totincr','parity'])['caseid'].count().reset_index()\n",
    "inc_parity_sorted = inc_parity.sort_values(by=['totincr', 'parity'], ascending = [True, True])\n",
    "inc_parity_sorted.tail()"
   ]
  },
  {
   "cell_type": "markdown",
   "metadata": {},
   "source": [
    "Compare the mean <tt>parity</tt> for high income respondents and others."
   ]
  },
  {
   "cell_type": "code",
   "execution_count": 148,
   "metadata": {},
   "outputs": [
    {
     "data": {
      "image/png": "[encoded data removed]",
      "text/plain": [
       "<Figure size 432x288 with 1 Axes>"
      ]
     },
     "metadata": {
      "needs_background": "light"
     },
     "output_type": "display_data"
    }
   ],
   "source": [
    "# Solution goes here\n",
    "df_all = resp.groupby(by=['totincr'])['parity'].describe().T\n",
    "\n",
    "df_all_mean = df_all[df_all.index=='mean'].T\n",
    "df_all_mean\n",
    "\n",
    "\n",
    "\n",
    "\n",
    "\n",
    "\n",
    "plt.bar(df_all_mean.index, df_all_mean['mean'].values, align='center', alpha=0.5)\n",
    "plt.ylabel('Mean Parity')\n",
    "plt.title('Mean Parity by income group')\n",
    "\n",
    "plt.show()\n"
   ]
  },
  {
   "cell_type": "markdown",
   "metadata": {},
   "source": [
    "Compute the Cohen effect size for this difference.  How does it compare with the difference in pregnancy length for first babies and others?"
   ]
  },
  {
   "cell_type": "code",
   "execution_count": null,
   "metadata": {},
   "outputs": [],
   "source": [
    "# Solution goes here"
   ]
  },
  {
   "cell_type": "code",
   "execution_count": 157,
   "metadata": {},
   "outputs": [],
   "source": [
    "rich = resp[resp['totincr'] == 14]\n",
    "other = resp[resp['totincr'] != 14]"
   ]
  },
  {
   "cell_type": "code",
   "execution_count": 160,
   "metadata": {},
   "outputs": [
    {
     "data": {
      "text/plain": [
       "0.1251185531466061"
      ]
     },
     "execution_count": 160,
     "metadata": {},
     "output_type": "execute_result"
    }
   ],
   "source": [
    "CohenEffectSize(other['parity'], rich['parity'])"
   ]
  },
  {
   "cell_type": "code",
   "execution_count": null,
   "metadata": {},
   "outputs": [],
   "source": []
  }
 ],
 "metadata": {
  "kernelspec": {
   "display_name": "Python 3",
   "language": "python",
   "name": "python3"
  },
  "language_info": {
   "codemirror_mode": {
    "name": "ipython",
    "version": 3
   },
   "file_extension": ".py",
   "mimetype": "text/x-python",
   "name": "python",
   "nbconvert_exporter": "python",
   "pygments_lexer": "ipython3",
   "version": "3.7.4"
  }
 },
 "nbformat": 4,
 "nbformat_minor": 1
}
